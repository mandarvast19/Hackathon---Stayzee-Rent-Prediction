{
 "cells": [
  {
   "cell_type": "code",
   "execution_count": 1,
   "metadata": {},
   "outputs": [
    {
     "name": "stderr",
     "output_type": "stream",
     "text": [
      "C:\\Users\\manda\\Miniconda3\\lib\\site-packages\\statsmodels\\tools\\_testing.py:19: FutureWarning: pandas.util.testing is deprecated. Use the functions in the public API at pandas.testing instead.\n",
      "  import pandas.util.testing as tm\n"
     ]
    }
   ],
   "source": [
    "import pandas as pd\n",
    "import numpy as np\n",
    "import seaborn as sns\n",
    "import matplotlib.pyplot as plt\n",
    "from sklearn.preprocessing import LabelEncoder,StandardScaler,MinMaxScaler\n",
    "from sklearn.model_selection import train_test_split\n",
    "from sklearn.linear_model import LinearRegression\n",
    "from sklearn.ensemble import RandomForestRegressor\n",
    "from sklearn.metrics import mean_squared_error\n",
    "from scipy.stats.mstats import winsorize"
   ]
  },
  {
   "cell_type": "code",
   "execution_count": 2,
   "metadata": {},
   "outputs": [],
   "source": [
    "df = pd.read_csv(\"Datasets\\Train.csv\").set_index('id')"
   ]
  },
  {
   "cell_type": "code",
   "execution_count": 3,
   "metadata": {},
   "outputs": [
    {
     "data": {
      "text/html": [
       "<div>\n",
       "<style scoped>\n",
       "    .dataframe tbody tr th:only-of-type {\n",
       "        vertical-align: middle;\n",
       "    }\n",
       "\n",
       "    .dataframe tbody tr th {\n",
       "        vertical-align: top;\n",
       "    }\n",
       "\n",
       "    .dataframe thead th {\n",
       "        text-align: right;\n",
       "    }\n",
       "</style>\n",
       "<table border=\"1\" class=\"dataframe\">\n",
       "  <thead>\n",
       "    <tr style=\"text-align: right;\">\n",
       "      <th></th>\n",
       "      <th>name</th>\n",
       "      <th>host_id</th>\n",
       "      <th>host_name</th>\n",
       "      <th>neighbourhood_group</th>\n",
       "      <th>neighbourhood</th>\n",
       "      <th>latitude</th>\n",
       "      <th>longitude</th>\n",
       "      <th>room_type</th>\n",
       "      <th>price</th>\n",
       "      <th>minimum_nights</th>\n",
       "      <th>number_of_reviews</th>\n",
       "      <th>last_review</th>\n",
       "      <th>reviews_per_month</th>\n",
       "      <th>calculated_host_listings_count</th>\n",
       "      <th>availability_365</th>\n",
       "    </tr>\n",
       "    <tr>\n",
       "      <th>id</th>\n",
       "      <th></th>\n",
       "      <th></th>\n",
       "      <th></th>\n",
       "      <th></th>\n",
       "      <th></th>\n",
       "      <th></th>\n",
       "      <th></th>\n",
       "      <th></th>\n",
       "      <th></th>\n",
       "      <th></th>\n",
       "      <th></th>\n",
       "      <th></th>\n",
       "      <th></th>\n",
       "      <th></th>\n",
       "      <th></th>\n",
       "    </tr>\n",
       "  </thead>\n",
       "  <tbody>\n",
       "    <tr>\n",
       "      <th>5728806</th>\n",
       "      <td>Large private room in Nolita</td>\n",
       "      <td>4271676</td>\n",
       "      <td>Nat</td>\n",
       "      <td>Manhattan</td>\n",
       "      <td>Nolita</td>\n",
       "      <td>40.72217</td>\n",
       "      <td>-73.99481</td>\n",
       "      <td>Private room</td>\n",
       "      <td>120</td>\n",
       "      <td>7</td>\n",
       "      <td>3</td>\n",
       "      <td>2015-09-01</td>\n",
       "      <td>0.06</td>\n",
       "      <td>3</td>\n",
       "      <td>0</td>\n",
       "    </tr>\n",
       "    <tr>\n",
       "      <th>2243769</th>\n",
       "      <td>Super Bowl New York City Apartment</td>\n",
       "      <td>11460768</td>\n",
       "      <td>Brian</td>\n",
       "      <td>Manhattan</td>\n",
       "      <td>Upper West Side</td>\n",
       "      <td>40.80020</td>\n",
       "      <td>-73.96045</td>\n",
       "      <td>Entire home/apt</td>\n",
       "      <td>1500</td>\n",
       "      <td>1</td>\n",
       "      <td>0</td>\n",
       "      <td>NaN</td>\n",
       "      <td>NaN</td>\n",
       "      <td>1</td>\n",
       "      <td>0</td>\n",
       "    </tr>\n",
       "    <tr>\n",
       "      <th>35515415</th>\n",
       "      <td>COZY APT CLOSE TO LGA &amp; JFK AND TRANSPORTATION</td>\n",
       "      <td>267193767</td>\n",
       "      <td>Jenny</td>\n",
       "      <td>Queens</td>\n",
       "      <td>East Elmhurst</td>\n",
       "      <td>40.75558</td>\n",
       "      <td>-73.89316</td>\n",
       "      <td>Entire home/apt</td>\n",
       "      <td>200</td>\n",
       "      <td>2</td>\n",
       "      <td>4</td>\n",
       "      <td>2019-07-05</td>\n",
       "      <td>4.00</td>\n",
       "      <td>1</td>\n",
       "      <td>365</td>\n",
       "    </tr>\n",
       "    <tr>\n",
       "      <th>36202006</th>\n",
       "      <td>Stream-Pressed Paradise (Laundry Room Setup)</td>\n",
       "      <td>43392243</td>\n",
       "      <td>Rita</td>\n",
       "      <td>Staten Island</td>\n",
       "      <td>Concord</td>\n",
       "      <td>40.60110</td>\n",
       "      <td>-74.07830</td>\n",
       "      <td>Shared room</td>\n",
       "      <td>30</td>\n",
       "      <td>2</td>\n",
       "      <td>0</td>\n",
       "      <td>NaN</td>\n",
       "      <td>NaN</td>\n",
       "      <td>4</td>\n",
       "      <td>82</td>\n",
       "    </tr>\n",
       "    <tr>\n",
       "      <th>3780951</th>\n",
       "      <td>Charming Harlem apartment</td>\n",
       "      <td>16065171</td>\n",
       "      <td>Gina</td>\n",
       "      <td>Manhattan</td>\n",
       "      <td>Harlem</td>\n",
       "      <td>40.81022</td>\n",
       "      <td>-73.94266</td>\n",
       "      <td>Shared room</td>\n",
       "      <td>115</td>\n",
       "      <td>1</td>\n",
       "      <td>16</td>\n",
       "      <td>2019-05-26</td>\n",
       "      <td>0.27</td>\n",
       "      <td>1</td>\n",
       "      <td>365</td>\n",
       "    </tr>\n",
       "    <tr>\n",
       "      <th>...</th>\n",
       "      <td>...</td>\n",
       "      <td>...</td>\n",
       "      <td>...</td>\n",
       "      <td>...</td>\n",
       "      <td>...</td>\n",
       "      <td>...</td>\n",
       "      <td>...</td>\n",
       "      <td>...</td>\n",
       "      <td>...</td>\n",
       "      <td>...</td>\n",
       "      <td>...</td>\n",
       "      <td>...</td>\n",
       "      <td>...</td>\n",
       "      <td>...</td>\n",
       "      <td>...</td>\n",
       "    </tr>\n",
       "    <tr>\n",
       "      <th>28342248</th>\n",
       "      <td>Ridgewood retreat</td>\n",
       "      <td>120730056</td>\n",
       "      <td>Sophie</td>\n",
       "      <td>Queens</td>\n",
       "      <td>Ridgewood</td>\n",
       "      <td>40.70602</td>\n",
       "      <td>-73.90485</td>\n",
       "      <td>Entire home/apt</td>\n",
       "      <td>80</td>\n",
       "      <td>5</td>\n",
       "      <td>2</td>\n",
       "      <td>2018-09-30</td>\n",
       "      <td>0.21</td>\n",
       "      <td>1</td>\n",
       "      <td>0</td>\n",
       "    </tr>\n",
       "    <tr>\n",
       "      <th>8438775</th>\n",
       "      <td>Private BR &amp; Bath near Central Park</td>\n",
       "      <td>41042927</td>\n",
       "      <td>Gabi</td>\n",
       "      <td>Manhattan</td>\n",
       "      <td>Upper West Side</td>\n",
       "      <td>40.77697</td>\n",
       "      <td>-73.97698</td>\n",
       "      <td>Private room</td>\n",
       "      <td>137</td>\n",
       "      <td>1</td>\n",
       "      <td>163</td>\n",
       "      <td>2019-06-28</td>\n",
       "      <td>3.55</td>\n",
       "      <td>1</td>\n",
       "      <td>32</td>\n",
       "    </tr>\n",
       "    <tr>\n",
       "      <th>27332770</th>\n",
       "      <td>Warm Home w/ Private Garden (Inwood Manhattan ...</td>\n",
       "      <td>80381355</td>\n",
       "      <td>Mary</td>\n",
       "      <td>Manhattan</td>\n",
       "      <td>Inwood</td>\n",
       "      <td>40.86912</td>\n",
       "      <td>-73.92183</td>\n",
       "      <td>Entire home/apt</td>\n",
       "      <td>195</td>\n",
       "      <td>2</td>\n",
       "      <td>6</td>\n",
       "      <td>2019-03-31</td>\n",
       "      <td>0.53</td>\n",
       "      <td>1</td>\n",
       "      <td>0</td>\n",
       "    </tr>\n",
       "    <tr>\n",
       "      <th>9063972</th>\n",
       "      <td>Chill Bushwick Suite</td>\n",
       "      <td>3040551</td>\n",
       "      <td>Olu Bliss</td>\n",
       "      <td>Brooklyn</td>\n",
       "      <td>Bushwick</td>\n",
       "      <td>40.69709</td>\n",
       "      <td>-73.91435</td>\n",
       "      <td>Private room</td>\n",
       "      <td>80</td>\n",
       "      <td>3</td>\n",
       "      <td>0</td>\n",
       "      <td>NaN</td>\n",
       "      <td>NaN</td>\n",
       "      <td>1</td>\n",
       "      <td>0</td>\n",
       "    </tr>\n",
       "    <tr>\n",
       "      <th>13372860</th>\n",
       "      <td>Cozy and simple Bedstuy studio right by the train</td>\n",
       "      <td>16755566</td>\n",
       "      <td>Ashton</td>\n",
       "      <td>Brooklyn</td>\n",
       "      <td>Bedford-Stuyvesant</td>\n",
       "      <td>40.69076</td>\n",
       "      <td>-73.92886</td>\n",
       "      <td>Entire home/apt</td>\n",
       "      <td>69</td>\n",
       "      <td>4</td>\n",
       "      <td>5</td>\n",
       "      <td>2016-11-23</td>\n",
       "      <td>0.13</td>\n",
       "      <td>1</td>\n",
       "      <td>0</td>\n",
       "    </tr>\n",
       "  </tbody>\n",
       "</table>\n",
       "<p>34226 rows × 15 columns</p>\n",
       "</div>"
      ],
      "text/plain": [
       "                                                       name    host_id  \\\n",
       "id                                                                       \n",
       "5728806                        Large private room in Nolita    4271676   \n",
       "2243769                  Super Bowl New York City Apartment   11460768   \n",
       "35515415     COZY APT CLOSE TO LGA & JFK AND TRANSPORTATION  267193767   \n",
       "36202006       Stream-Pressed Paradise (Laundry Room Setup)   43392243   \n",
       "3780951                           Charming Harlem apartment   16065171   \n",
       "...                                                     ...        ...   \n",
       "28342248                                  Ridgewood retreat  120730056   \n",
       "8438775                 Private BR & Bath near Central Park   41042927   \n",
       "27332770  Warm Home w/ Private Garden (Inwood Manhattan ...   80381355   \n",
       "9063972                                Chill Bushwick Suite    3040551   \n",
       "13372860  Cozy and simple Bedstuy studio right by the train   16755566   \n",
       "\n",
       "          host_name neighbourhood_group       neighbourhood  latitude  \\\n",
       "id                                                                      \n",
       "5728806         Nat           Manhattan              Nolita  40.72217   \n",
       "2243769       Brian           Manhattan     Upper West Side  40.80020   \n",
       "35515415      Jenny              Queens       East Elmhurst  40.75558   \n",
       "36202006       Rita       Staten Island             Concord  40.60110   \n",
       "3780951        Gina           Manhattan              Harlem  40.81022   \n",
       "...             ...                 ...                 ...       ...   \n",
       "28342248     Sophie              Queens           Ridgewood  40.70602   \n",
       "8438775        Gabi           Manhattan     Upper West Side  40.77697   \n",
       "27332770       Mary           Manhattan              Inwood  40.86912   \n",
       "9063972   Olu Bliss            Brooklyn            Bushwick  40.69709   \n",
       "13372860     Ashton            Brooklyn  Bedford-Stuyvesant  40.69076   \n",
       "\n",
       "          longitude        room_type  price  minimum_nights  \\\n",
       "id                                                            \n",
       "5728806   -73.99481     Private room    120               7   \n",
       "2243769   -73.96045  Entire home/apt   1500               1   \n",
       "35515415  -73.89316  Entire home/apt    200               2   \n",
       "36202006  -74.07830      Shared room     30               2   \n",
       "3780951   -73.94266      Shared room    115               1   \n",
       "...             ...              ...    ...             ...   \n",
       "28342248  -73.90485  Entire home/apt     80               5   \n",
       "8438775   -73.97698     Private room    137               1   \n",
       "27332770  -73.92183  Entire home/apt    195               2   \n",
       "9063972   -73.91435     Private room     80               3   \n",
       "13372860  -73.92886  Entire home/apt     69               4   \n",
       "\n",
       "          number_of_reviews last_review  reviews_per_month  \\\n",
       "id                                                           \n",
       "5728806                   3  2015-09-01               0.06   \n",
       "2243769                   0         NaN                NaN   \n",
       "35515415                  4  2019-07-05               4.00   \n",
       "36202006                  0         NaN                NaN   \n",
       "3780951                  16  2019-05-26               0.27   \n",
       "...                     ...         ...                ...   \n",
       "28342248                  2  2018-09-30               0.21   \n",
       "8438775                 163  2019-06-28               3.55   \n",
       "27332770                  6  2019-03-31               0.53   \n",
       "9063972                   0         NaN                NaN   \n",
       "13372860                  5  2016-11-23               0.13   \n",
       "\n",
       "          calculated_host_listings_count  availability_365  \n",
       "id                                                          \n",
       "5728806                                3                 0  \n",
       "2243769                                1                 0  \n",
       "35515415                               1               365  \n",
       "36202006                               4                82  \n",
       "3780951                                1               365  \n",
       "...                                  ...               ...  \n",
       "28342248                               1                 0  \n",
       "8438775                                1                32  \n",
       "27332770                               1                 0  \n",
       "9063972                                1                 0  \n",
       "13372860                               1                 0  \n",
       "\n",
       "[34226 rows x 15 columns]"
      ]
     },
     "execution_count": 3,
     "metadata": {},
     "output_type": "execute_result"
    }
   ],
   "source": [
    "df"
   ]
  },
  {
   "cell_type": "markdown",
   "metadata": {},
   "source": [
    "## NULL"
   ]
  },
  {
   "cell_type": "code",
   "execution_count": 5,
   "metadata": {},
   "outputs": [
    {
     "data": {
      "text/plain": [
       "name                                12\n",
       "host_id                              0\n",
       "host_name                           13\n",
       "neighbourhood_group                  0\n",
       "neighbourhood                        0\n",
       "latitude                             0\n",
       "longitude                            0\n",
       "room_type                            0\n",
       "price                                0\n",
       "minimum_nights                       0\n",
       "number_of_reviews                    0\n",
       "last_review                       6982\n",
       "reviews_per_month                 6982\n",
       "calculated_host_listings_count       0\n",
       "availability_365                     0\n",
       "dtype: int64"
      ]
     },
     "execution_count": 5,
     "metadata": {},
     "output_type": "execute_result"
    }
   ],
   "source": [
    "df.isna().sum()"
   ]
  },
  {
   "cell_type": "code",
   "execution_count": 4,
   "metadata": {},
   "outputs": [
    {
     "name": "stdout",
     "output_type": "stream",
     "text": [
      "neighbourhood_group               0\n",
      "neighbourhood                     0\n",
      "latitude                          0\n",
      "longitude                         0\n",
      "room_type                         0\n",
      "price                             0\n",
      "minimum_nights                    0\n",
      "number_of_reviews                 0\n",
      "last_review                       0\n",
      "reviews_per_month                 0\n",
      "calculated_host_listings_count    0\n",
      "availability_365                  0\n",
      "dtype: int64\n"
     ]
    }
   ],
   "source": [
    "def handle_null(df):\n",
    "    df['reviews_per_month'].fillna(0,inplace=True)\n",
    "    df['last_review'].fillna('2010-04-20',inplace=True)\n",
    "    df.drop(['name','host_name','host_id'],axis=1,inplace=True)\n",
    "    print(df.isna().sum())\n",
    "handle_null(df)"
   ]
  },
  {
   "cell_type": "code",
   "execution_count": 5,
   "metadata": {},
   "outputs": [],
   "source": [
    "num = df.select_dtypes(exclude=object).columns\n",
    "cat = df.select_dtypes(include=object).columns"
   ]
  },
  {
   "cell_type": "markdown",
   "metadata": {},
   "source": [
    "## Outliers"
   ]
  },
  {
   "cell_type": "code",
   "execution_count": 13,
   "metadata": {},
   "outputs": [
    {
     "data": {
      "image/png": "[encoded data removed]",
      "text/plain": [
       "<Figure size 432x288 with 1 Axes>"
      ]
     },
     "metadata": {
      "needs_background": "light"
     },
     "output_type": "display_data"
    },
    {
     "data": {
      "image/png": "[encoded data removed]",
      "text/plain": [
       "<Figure size 432x288 with 1 Axes>"
      ]
     },
     "metadata": {
      "needs_background": "light"
     },
     "output_type": "display_data"
    },
    {
     "data": {
      "image/png": "[encoded data removed]",
      "text/plain": [
       "<Figure size 432x288 with 1 Axes>"
      ]
     },
     "metadata": {
      "needs_background": "light"
     },
     "output_type": "display_data"
    },
    {
     "data": {
      "image/png": "[encoded data removed]",
      "text/plain": [
       "<Figure size 432x288 with 1 Axes>"
      ]
     },
     "metadata": {
      "needs_background": "light"
     },
     "output_type": "display_data"
    },
    {
     "data": {
      "image/png": "[encoded data removed]",
      "text/plain": [
       "<Figure size 432x288 with 1 Axes>"
      ]
     },
     "metadata": {
      "needs_background": "light"
     },
     "output_type": "display_data"
    },
    {
     "data": {
      "image/png": "[encoded data removed]",
      "text/plain": [
       "<Figure size 432x288 with 1 Axes>"
      ]
     },
     "metadata": {
      "needs_background": "light"
     },
     "output_type": "display_data"
    },
    {
     "data": {
      "image/png": "[encoded data removed]",
      "text/plain": [
       "<Figure size 432x288 with 1 Axes>"
      ]
     },
     "metadata": {
      "needs_background": "light"
     },
     "output_type": "display_data"
    },
    {
     "data": {
      "image/png": "[encoded data removed]",
      "text/plain": [
       "<Figure size 432x288 with 1 Axes>"
      ]
     },
     "metadata": {
      "needs_background": "light"
     },
     "output_type": "display_data"
    },
    {
     "data": {
      "image/png": "[encoded data removed]",
      "text/plain": [
       "<Figure size 432x288 with 1 Axes>"
      ]
     },
     "metadata": {
      "needs_background": "light"
     },
     "output_type": "display_data"
    }
   ],
   "source": [
    "for col in num:\n",
    "    sns.boxplot(df[col])\n",
    "    plt.show()"
   ]
  },
  {
   "cell_type": "code",
   "execution_count": 20,
   "metadata": {},
   "outputs": [
    {
     "data": {
      "image/png": "[encoded data removed]",
      "text/plain": [
       "<Figure size 432x288 with 1 Axes>"
      ]
     },
     "metadata": {
      "needs_background": "light"
     },
     "output_type": "display_data"
    },
    {
     "data": {
      "image/png": "[encoded data removed]",
      "text/plain": [
       "<Figure size 432x288 with 1 Axes>"
      ]
     },
     "metadata": {
      "needs_background": "light"
     },
     "output_type": "display_data"
    },
    {
     "data": {
      "image/png": "[encoded data removed]",
      "text/plain": [
       "<Figure size 432x288 with 1 Axes>"
      ]
     },
     "metadata": {
      "needs_background": "light"
     },
     "output_type": "display_data"
    },
    {
     "data": {
      "image/png": "[encoded data removed]",
      "text/plain": [
       "<Figure size 432x288 with 1 Axes>"
      ]
     },
     "metadata": {
      "needs_background": "light"
     },
     "output_type": "display_data"
    },
    {
     "data": {
      "image/png": "[encoded data removed]",
      "text/plain": [
       "<Figure size 432x288 with 1 Axes>"
      ]
     },
     "metadata": {
      "needs_background": "light"
     },
     "output_type": "display_data"
    },
    {
     "data": {
      "image/png": "[encoded data removed]",
      "text/plain": [
       "<Figure size 432x288 with 1 Axes>"
      ]
     },
     "metadata": {
      "needs_background": "light"
     },
     "output_type": "display_data"
    },
    {
     "data": {
      "image/png": "[encoded data removed]",
      "text/plain": [
       "<Figure size 432x288 with 1 Axes>"
      ]
     },
     "metadata": {
      "needs_background": "light"
     },
     "output_type": "display_data"
    },
    {
     "data": {
      "image/png": "[encoded data removed]",
      "text/plain": [
       "<Figure size 432x288 with 1 Axes>"
      ]
     },
     "metadata": {
      "needs_background": "light"
     },
     "output_type": "display_data"
    },
    {
     "data": {
      "image/png": "[encoded data removed]",
      "text/plain": [
       "<Figure size 432x288 with 1 Axes>"
      ]
     },
     "metadata": {
      "needs_background": "light"
     },
     "output_type": "display_data"
    }
   ],
   "source": [
    "for col in num:\n",
    "    sns.boxplot(treated_df[col])\n",
    "    plt.show()"
   ]
  },
  {
   "cell_type": "code",
   "execution_count": 6,
   "metadata": {},
   "outputs": [],
   "source": [
    "def detect_outliers(dataframe):\n",
    "    cols = list(dataframe)\n",
    "    outliers = pd.DataFrame(columns=['Feature','Number of Outliers'])   \n",
    "    for column in cols:\n",
    "        if column in dataframe.columns:\n",
    "            q1 = dataframe[column].quantile(0.25) \n",
    "            \n",
    "            q3 = dataframe[column].quantile(0.75)\n",
    "            \n",
    "            iqr = q3 - q1\n",
    "            \n",
    "            fence_low = q1 - (1.5*iqr)\n",
    "            fence_high = q3 + (1.5*iqr)\n",
    "            outliers = outliers.append({'Feature':column,'Number of Outliers':dataframe.loc[(dataframe[column] < fence_low) | (dataframe[column] > fence_high)].shape[0]},ignore_index=True)\n",
    "    return outliers"
   ]
  },
  {
   "cell_type": "code",
   "execution_count": 9,
   "metadata": {},
   "outputs": [],
   "source": [
    "# Function to treat outliers \n",
    "def treat_outliers(dataframe):\n",
    "    cols = list(dataframe)\n",
    "    new_datafr = dataframe.copy()\n",
    "    for col in cols:\n",
    "        if col in dataframe.select_dtypes(include=np.number).columns:\n",
    "            new_datafr[col] = winsorize(dataframe[col], limits=[0.05, 0.1],inclusive=(True, True))\n",
    "    return new_datafr    \n"
   ]
  },
  {
   "cell_type": "code",
   "execution_count": 7,
   "metadata": {},
   "outputs": [
    {
     "data": {
      "text/html": [
       "<div>\n",
       "<style scoped>\n",
       "    .dataframe tbody tr th:only-of-type {\n",
       "        vertical-align: middle;\n",
       "    }\n",
       "\n",
       "    .dataframe tbody tr th {\n",
       "        vertical-align: top;\n",
       "    }\n",
       "\n",
       "    .dataframe thead th {\n",
       "        text-align: right;\n",
       "    }\n",
       "</style>\n",
       "<table border=\"1\" class=\"dataframe\">\n",
       "  <thead>\n",
       "    <tr style=\"text-align: right;\">\n",
       "      <th></th>\n",
       "      <th>Feature</th>\n",
       "      <th>Number of Outliers</th>\n",
       "    </tr>\n",
       "  </thead>\n",
       "  <tbody>\n",
       "    <tr>\n",
       "      <th>0</th>\n",
       "      <td>latitude</td>\n",
       "      <td>301</td>\n",
       "    </tr>\n",
       "    <tr>\n",
       "      <th>1</th>\n",
       "      <td>longitude</td>\n",
       "      <td>1965</td>\n",
       "    </tr>\n",
       "    <tr>\n",
       "      <th>2</th>\n",
       "      <td>price</td>\n",
       "      <td>2114</td>\n",
       "    </tr>\n",
       "    <tr>\n",
       "      <th>3</th>\n",
       "      <td>minimum_nights</td>\n",
       "      <td>4581</td>\n",
       "    </tr>\n",
       "    <tr>\n",
       "      <th>4</th>\n",
       "      <td>number_of_reviews</td>\n",
       "      <td>4243</td>\n",
       "    </tr>\n",
       "    <tr>\n",
       "      <th>5</th>\n",
       "      <td>reviews_per_month</td>\n",
       "      <td>2235</td>\n",
       "    </tr>\n",
       "    <tr>\n",
       "      <th>6</th>\n",
       "      <td>calculated_host_listings_count</td>\n",
       "      <td>4930</td>\n",
       "    </tr>\n",
       "    <tr>\n",
       "      <th>7</th>\n",
       "      <td>availability_365</td>\n",
       "      <td>0</td>\n",
       "    </tr>\n",
       "  </tbody>\n",
       "</table>\n",
       "</div>"
      ],
      "text/plain": [
       "                          Feature Number of Outliers\n",
       "0                        latitude                301\n",
       "1                       longitude               1965\n",
       "2                           price               2114\n",
       "3                  minimum_nights               4581\n",
       "4               number_of_reviews               4243\n",
       "5               reviews_per_month               2235\n",
       "6  calculated_host_listings_count               4930\n",
       "7                availability_365                  0"
      ]
     },
     "execution_count": 7,
     "metadata": {},
     "output_type": "execute_result"
    }
   ],
   "source": [
    "detect_outliers(df[num])"
   ]
  },
  {
   "cell_type": "code",
   "execution_count": 11,
   "metadata": {},
   "outputs": [],
   "source": [
    "treated_df = treat_outliers(df)"
   ]
  },
  {
   "cell_type": "markdown",
   "metadata": {},
   "source": [
    "## SKEW"
   ]
  },
  {
   "cell_type": "code",
   "execution_count": 7,
   "metadata": {
    "scrolled": true
   },
   "outputs": [
    {
     "data": {
      "image/png": "[encoded data removed]",
      "text/plain": [
       "<Figure size 432x288 with 1 Axes>"
      ]
     },
     "metadata": {
      "needs_background": "light"
     },
     "output_type": "display_data"
    },
    {
     "data": {
      "image/png": "[encoded data removed]",
      "text/plain": [
       "<Figure size 432x288 with 1 Axes>"
      ]
     },
     "metadata": {
      "needs_background": "light"
     },
     "output_type": "display_data"
    },
    {
     "data": {
      "image/png": "[encoded data removed]",
      "text/plain": [
       "<Figure size 432x288 with 1 Axes>"
      ]
     },
     "metadata": {
      "needs_background": "light"
     },
     "output_type": "display_data"
    },
    {
     "data": {
      "image/png": "[encoded data removed]",
      "text/plain": [
       "<Figure size 432x288 with 1 Axes>"
      ]
     },
     "metadata": {
      "needs_background": "light"
     },
     "output_type": "display_data"
    },
    {
     "data": {
      "image/png": "[encoded data removed]",
      "text/plain": [
       "<Figure size 432x288 with 1 Axes>"
      ]
     },
     "metadata": {
      "needs_background": "light"
     },
     "output_type": "display_data"
    },
    {
     "data": {
      "image/png": "[encoded data removed]",
      "text/plain": [
       "<Figure size 432x288 with 1 Axes>"
      ]
     },
     "metadata": {
      "needs_background": "light"
     },
     "output_type": "display_data"
    },
    {
     "data": {
      "image/png": "[encoded data removed]",
      "text/plain": [
       "<Figure size 432x288 with 1 Axes>"
      ]
     },
     "metadata": {
      "needs_background": "light"
     },
     "output_type": "display_data"
    },
    {
     "data": {
      "image/png": "[encoded data removed]",
      "text/plain": [
       "<Figure size 432x288 with 1 Axes>"
      ]
     },
     "metadata": {
      "needs_background": "light"
     },
     "output_type": "display_data"
    }
   ],
   "source": [
    "for col in num:\n",
    "    sns.distplot(df[col])\n",
    "    plt.show()"
   ]
  },
  {
   "cell_type": "code",
   "execution_count": 53,
   "metadata": {},
   "outputs": [
    {
     "data": {
      "image/png": "[encoded data removed]",
      "text/plain": [
       "<Figure size 432x288 with 1 Axes>"
      ]
     },
     "metadata": {
      "needs_background": "light"
     },
     "output_type": "display_data"
    },
    {
     "data": {
      "image/png": "[encoded data removed]",
      "text/plain": [
       "<Figure size 432x288 with 1 Axes>"
      ]
     },
     "metadata": {
      "needs_background": "light"
     },
     "output_type": "display_data"
    },
    {
     "data": {
      "image/png": "[encoded data removed]",
      "text/plain": [
       "<Figure size 432x288 with 1 Axes>"
      ]
     },
     "metadata": {
      "needs_background": "light"
     },
     "output_type": "display_data"
    },
    {
     "data": {
      "image/png": "[encoded data removed]",
      "text/plain": [
       "<Figure size 432x288 with 1 Axes>"
      ]
     },
     "metadata": {
      "needs_background": "light"
     },
     "output_type": "display_data"
    },
    {
     "data": {
      "image/png": "[encoded data removed]",
      "text/plain": [
       "<Figure size 432x288 with 1 Axes>"
      ]
     },
     "metadata": {
      "needs_background": "light"
     },
     "output_type": "display_data"
    },
    {
     "data": {
      "image/png": "[encoded data removed]",
      "text/plain": [
       "<Figure size 432x288 with 1 Axes>"
      ]
     },
     "metadata": {
      "needs_background": "light"
     },
     "output_type": "display_data"
    },
    {
     "data": {
      "image/png": "[encoded data removed]",
      "text/plain": [
       "<Figure size 432x288 with 1 Axes>"
      ]
     },
     "metadata": {
      "needs_background": "light"
     },
     "output_type": "display_data"
    },
    {
     "data": {
      "image/png": "[encoded data removed]",
      "text/plain": [
       "<Figure size 432x288 with 1 Axes>"
      ]
     },
     "metadata": {
      "needs_background": "light"
     },
     "output_type": "display_data"
    },
    {
     "data": {
      "image/png": "[encoded data removed]",
      "text/plain": [
       "<Figure size 432x288 with 1 Axes>"
      ]
     },
     "metadata": {
      "needs_background": "light"
     },
     "output_type": "display_data"
    },
    {
     "data": {
      "image/png": "[encoded data removed]",
      "text/plain": [
       "<Figure size 432x288 with 1 Axes>"
      ]
     },
     "metadata": {
      "needs_background": "light"
     },
     "output_type": "display_data"
    }
   ],
   "source": [
    "for col in num:\n",
    "    sns.distplot(treated_df[col])\n",
    "    plt.show()"
   ]
  },
  {
   "cell_type": "code",
   "execution_count": 8,
   "metadata": {},
   "outputs": [],
   "source": [
    "def detect_skew(datafr):\n",
    "    sk = datafr.skew()\n",
    "    skewed = sk[sk>0.6]\n",
    "    print(sk,'\\n \\n Greater than 0.6 \\n',skewed)"
   ]
  },
  {
   "cell_type": "code",
   "execution_count": 9,
   "metadata": {},
   "outputs": [],
   "source": [
    "def treat_skew(dataframe):\n",
    "    sk = dataframe.skew()\n",
    "    skewed = sk[sk>0.6]\n",
    "    new_dataframe = dataframe.copy()\n",
    "    for col in skewed.index.drop('longitude').tolist():\n",
    "        new_dataframe[col] = np.log1p(dataframe[col])\n",
    "        print(col)\n",
    "    return new_dataframe"
   ]
  },
  {
   "cell_type": "code",
   "execution_count": 10,
   "metadata": {},
   "outputs": [
    {
     "name": "stdout",
     "output_type": "stream",
     "text": [
      "price\n",
      "minimum_nights\n",
      "number_of_reviews\n",
      "reviews_per_month\n",
      "calculated_host_listings_count\n",
      "availability_365\n"
     ]
    }
   ],
   "source": [
    "treated_df = treat_skew(df)"
   ]
  },
  {
   "cell_type": "code",
   "execution_count": 11,
   "metadata": {},
   "outputs": [
    {
     "name": "stdout",
     "output_type": "stream",
     "text": [
      "latitude                           0.239973\n",
      "longitude                          1.277263\n",
      "price                             18.815094\n",
      "minimum_nights                    23.999268\n",
      "number_of_reviews                  3.645365\n",
      "reviews_per_month                  3.626118\n",
      "calculated_host_listings_count     7.969708\n",
      "availability_365                   0.755991\n",
      "dtype: float64 \n",
      " \n",
      " Greater than 0.6 \n",
      " longitude                          1.277263\n",
      "price                             18.815094\n",
      "minimum_nights                    23.999268\n",
      "number_of_reviews                  3.645365\n",
      "reviews_per_month                  3.626118\n",
      "calculated_host_listings_count     7.969708\n",
      "availability_365                   0.755991\n",
      "dtype: float64\n"
     ]
    }
   ],
   "source": [
    "detect_skew(df)"
   ]
  },
  {
   "cell_type": "code",
   "execution_count": 12,
   "metadata": {},
   "outputs": [
    {
     "name": "stdout",
     "output_type": "stream",
     "text": [
      "latitude                          0.239973\n",
      "longitude                         1.277263\n",
      "price                             0.551689\n",
      "minimum_nights                    1.496255\n",
      "number_of_reviews                 0.357686\n",
      "reviews_per_month                 0.942673\n",
      "calculated_host_listings_count    3.303858\n",
      "availability_365                 -0.200836\n",
      "dtype: float64 \n",
      " \n",
      " Greater than 0.6 \n",
      " longitude                         1.277263\n",
      "minimum_nights                    1.496255\n",
      "reviews_per_month                 0.942673\n",
      "calculated_host_listings_count    3.303858\n",
      "dtype: float64\n"
     ]
    }
   ],
   "source": [
    "detect_skew(treated_df)"
   ]
  },
  {
   "cell_type": "code",
   "execution_count": 12,
   "metadata": {},
   "outputs": [],
   "source": [
    "treated_df['last_review'] = pd.to_datetime(treated_df['last_review'])"
   ]
  },
  {
   "cell_type": "code",
   "execution_count": 13,
   "metadata": {},
   "outputs": [],
   "source": [
    "treated_df['last_review'] = ((pd.to_datetime('now')-treated_df['last_review'])/np.timedelta64(1,'M'))"
   ]
  },
  {
   "cell_type": "code",
   "execution_count": 23,
   "metadata": {},
   "outputs": [
    {
     "data": {
      "text/html": [
       "<div>\n",
       "<style scoped>\n",
       "    .dataframe tbody tr th:only-of-type {\n",
       "        vertical-align: middle;\n",
       "    }\n",
       "\n",
       "    .dataframe tbody tr th {\n",
       "        vertical-align: top;\n",
       "    }\n",
       "\n",
       "    .dataframe thead th {\n",
       "        text-align: right;\n",
       "    }\n",
       "</style>\n",
       "<table border=\"1\" class=\"dataframe\">\n",
       "  <thead>\n",
       "    <tr style=\"text-align: right;\">\n",
       "      <th></th>\n",
       "      <th>last_review</th>\n",
       "    </tr>\n",
       "    <tr>\n",
       "      <th>id</th>\n",
       "      <th></th>\n",
       "    </tr>\n",
       "  </thead>\n",
       "  <tbody>\n",
       "    <tr>\n",
       "      <th>5728806</th>\n",
       "      <td>54.448406</td>\n",
       "    </tr>\n",
       "    <tr>\n",
       "      <th>2243769</th>\n",
       "      <td>118.843979</td>\n",
       "    </tr>\n",
       "    <tr>\n",
       "      <th>35515415</th>\n",
       "      <td>8.353004</td>\n",
       "    </tr>\n",
       "    <tr>\n",
       "      <th>36202006</th>\n",
       "      <td>118.843979</td>\n",
       "    </tr>\n",
       "    <tr>\n",
       "      <th>3780951</th>\n",
       "      <td>9.667199</td>\n",
       "    </tr>\n",
       "    <tr>\n",
       "      <th>...</th>\n",
       "      <td>...</td>\n",
       "    </tr>\n",
       "    <tr>\n",
       "      <th>28342248</th>\n",
       "      <td>17.486662</td>\n",
       "    </tr>\n",
       "    <tr>\n",
       "      <th>8438775</th>\n",
       "      <td>8.582988</td>\n",
       "    </tr>\n",
       "    <tr>\n",
       "      <th>27332770</th>\n",
       "      <td>11.507073</td>\n",
       "    </tr>\n",
       "    <tr>\n",
       "      <th>9063972</th>\n",
       "      <td>118.843979</td>\n",
       "    </tr>\n",
       "    <tr>\n",
       "      <th>13372860</th>\n",
       "      <td>39.696563</td>\n",
       "    </tr>\n",
       "  </tbody>\n",
       "</table>\n",
       "<p>34226 rows × 1 columns</p>\n",
       "</div>"
      ],
      "text/plain": [
       "          last_review\n",
       "id                   \n",
       "5728806     54.448406\n",
       "2243769    118.843979\n",
       "35515415     8.353004\n",
       "36202006   118.843979\n",
       "3780951      9.667199\n",
       "...               ...\n",
       "28342248    17.486662\n",
       "8438775      8.582988\n",
       "27332770    11.507073\n",
       "9063972    118.843979\n",
       "13372860    39.696563\n",
       "\n",
       "[34226 rows x 1 columns]"
      ]
     },
     "execution_count": 23,
     "metadata": {},
     "output_type": "execute_result"
    }
   ],
   "source": [
    "treated_df[['last_review']]"
   ]
  },
  {
   "cell_type": "code",
   "execution_count": 14,
   "metadata": {},
   "outputs": [],
   "source": [
    "sc = StandardScaler()\n",
    "treated_df[num.drop('price')] = sc.fit_transform(treated_df[num.drop('price')])"
   ]
  },
  {
   "cell_type": "code",
   "execution_count": 15,
   "metadata": {},
   "outputs": [],
   "source": [
    "treated_df = pd.get_dummies(treated_df)"
   ]
  },
  {
   "cell_type": "code",
   "execution_count": 19,
   "metadata": {},
   "outputs": [
    {
     "data": {
      "text/html": [
       "<div>\n",
       "<style scoped>\n",
       "    .dataframe tbody tr th:only-of-type {\n",
       "        vertical-align: middle;\n",
       "    }\n",
       "\n",
       "    .dataframe tbody tr th {\n",
       "        vertical-align: top;\n",
       "    }\n",
       "\n",
       "    .dataframe thead th {\n",
       "        text-align: right;\n",
       "    }\n",
       "</style>\n",
       "<table border=\"1\" class=\"dataframe\">\n",
       "  <thead>\n",
       "    <tr style=\"text-align: right;\">\n",
       "      <th></th>\n",
       "      <th>F1</th>\n",
       "      <th>F2</th>\n",
       "      <th>Value</th>\n",
       "    </tr>\n",
       "  </thead>\n",
       "  <tbody>\n",
       "    <tr>\n",
       "      <th>1</th>\n",
       "      <td>latitude</td>\n",
       "      <td>longitude</td>\n",
       "      <td>0.085919</td>\n",
       "    </tr>\n",
       "    <tr>\n",
       "      <th>2</th>\n",
       "      <td>latitude</td>\n",
       "      <td>price</td>\n",
       "      <td>0.029195</td>\n",
       "    </tr>\n",
       "    <tr>\n",
       "      <th>3</th>\n",
       "      <td>latitude</td>\n",
       "      <td>minimum_nights</td>\n",
       "      <td>0.024725</td>\n",
       "    </tr>\n",
       "    <tr>\n",
       "      <th>4</th>\n",
       "      <td>latitude</td>\n",
       "      <td>number_of_reviews</td>\n",
       "      <td>-0.014016</td>\n",
       "    </tr>\n",
       "    <tr>\n",
       "      <th>5</th>\n",
       "      <td>latitude</td>\n",
       "      <td>reviews_per_month</td>\n",
       "      <td>-0.014961</td>\n",
       "    </tr>\n",
       "    <tr>\n",
       "      <th>6</th>\n",
       "      <td>latitude</td>\n",
       "      <td>calculated_host_listings_count</td>\n",
       "      <td>0.018272</td>\n",
       "    </tr>\n",
       "    <tr>\n",
       "      <th>7</th>\n",
       "      <td>latitude</td>\n",
       "      <td>availability_365</td>\n",
       "      <td>-0.012063</td>\n",
       "    </tr>\n",
       "    <tr>\n",
       "      <th>8</th>\n",
       "      <td>longitude</td>\n",
       "      <td>latitude</td>\n",
       "      <td>0.085919</td>\n",
       "    </tr>\n",
       "    <tr>\n",
       "      <th>10</th>\n",
       "      <td>longitude</td>\n",
       "      <td>price</td>\n",
       "      <td>-0.151930</td>\n",
       "    </tr>\n",
       "    <tr>\n",
       "      <th>11</th>\n",
       "      <td>longitude</td>\n",
       "      <td>minimum_nights</td>\n",
       "      <td>-0.063447</td>\n",
       "    </tr>\n",
       "    <tr>\n",
       "      <th>12</th>\n",
       "      <td>longitude</td>\n",
       "      <td>number_of_reviews</td>\n",
       "      <td>0.055632</td>\n",
       "    </tr>\n",
       "    <tr>\n",
       "      <th>13</th>\n",
       "      <td>longitude</td>\n",
       "      <td>reviews_per_month</td>\n",
       "      <td>0.135354</td>\n",
       "    </tr>\n",
       "    <tr>\n",
       "      <th>14</th>\n",
       "      <td>longitude</td>\n",
       "      <td>calculated_host_listings_count</td>\n",
       "      <td>-0.114418</td>\n",
       "    </tr>\n",
       "    <tr>\n",
       "      <th>15</th>\n",
       "      <td>longitude</td>\n",
       "      <td>availability_365</td>\n",
       "      <td>0.085315</td>\n",
       "    </tr>\n",
       "    <tr>\n",
       "      <th>16</th>\n",
       "      <td>price</td>\n",
       "      <td>latitude</td>\n",
       "      <td>0.029195</td>\n",
       "    </tr>\n",
       "    <tr>\n",
       "      <th>17</th>\n",
       "      <td>price</td>\n",
       "      <td>longitude</td>\n",
       "      <td>-0.151930</td>\n",
       "    </tr>\n",
       "    <tr>\n",
       "      <th>19</th>\n",
       "      <td>price</td>\n",
       "      <td>minimum_nights</td>\n",
       "      <td>0.045746</td>\n",
       "    </tr>\n",
       "    <tr>\n",
       "      <th>20</th>\n",
       "      <td>price</td>\n",
       "      <td>number_of_reviews</td>\n",
       "      <td>-0.048459</td>\n",
       "    </tr>\n",
       "    <tr>\n",
       "      <th>21</th>\n",
       "      <td>price</td>\n",
       "      <td>reviews_per_month</td>\n",
       "      <td>-0.052865</td>\n",
       "    </tr>\n",
       "    <tr>\n",
       "      <th>22</th>\n",
       "      <td>price</td>\n",
       "      <td>calculated_host_listings_count</td>\n",
       "      <td>0.053688</td>\n",
       "    </tr>\n",
       "    <tr>\n",
       "      <th>23</th>\n",
       "      <td>price</td>\n",
       "      <td>availability_365</td>\n",
       "      <td>0.083439</td>\n",
       "    </tr>\n",
       "    <tr>\n",
       "      <th>24</th>\n",
       "      <td>minimum_nights</td>\n",
       "      <td>latitude</td>\n",
       "      <td>0.024725</td>\n",
       "    </tr>\n",
       "    <tr>\n",
       "      <th>25</th>\n",
       "      <td>minimum_nights</td>\n",
       "      <td>longitude</td>\n",
       "      <td>-0.063447</td>\n",
       "    </tr>\n",
       "    <tr>\n",
       "      <th>26</th>\n",
       "      <td>minimum_nights</td>\n",
       "      <td>price</td>\n",
       "      <td>0.045746</td>\n",
       "    </tr>\n",
       "    <tr>\n",
       "      <th>28</th>\n",
       "      <td>minimum_nights</td>\n",
       "      <td>number_of_reviews</td>\n",
       "      <td>-0.078890</td>\n",
       "    </tr>\n",
       "    <tr>\n",
       "      <th>29</th>\n",
       "      <td>minimum_nights</td>\n",
       "      <td>reviews_per_month</td>\n",
       "      <td>-0.123140</td>\n",
       "    </tr>\n",
       "    <tr>\n",
       "      <th>30</th>\n",
       "      <td>minimum_nights</td>\n",
       "      <td>calculated_host_listings_count</td>\n",
       "      <td>0.128552</td>\n",
       "    </tr>\n",
       "    <tr>\n",
       "      <th>31</th>\n",
       "      <td>minimum_nights</td>\n",
       "      <td>availability_365</td>\n",
       "      <td>0.142466</td>\n",
       "    </tr>\n",
       "    <tr>\n",
       "      <th>32</th>\n",
       "      <td>number_of_reviews</td>\n",
       "      <td>latitude</td>\n",
       "      <td>-0.014016</td>\n",
       "    </tr>\n",
       "    <tr>\n",
       "      <th>33</th>\n",
       "      <td>number_of_reviews</td>\n",
       "      <td>longitude</td>\n",
       "      <td>0.055632</td>\n",
       "    </tr>\n",
       "    <tr>\n",
       "      <th>34</th>\n",
       "      <td>number_of_reviews</td>\n",
       "      <td>price</td>\n",
       "      <td>-0.048459</td>\n",
       "    </tr>\n",
       "    <tr>\n",
       "      <th>35</th>\n",
       "      <td>number_of_reviews</td>\n",
       "      <td>minimum_nights</td>\n",
       "      <td>-0.078890</td>\n",
       "    </tr>\n",
       "    <tr>\n",
       "      <th>37</th>\n",
       "      <td>number_of_reviews</td>\n",
       "      <td>reviews_per_month</td>\n",
       "      <td>0.584707</td>\n",
       "    </tr>\n",
       "    <tr>\n",
       "      <th>38</th>\n",
       "      <td>number_of_reviews</td>\n",
       "      <td>calculated_host_listings_count</td>\n",
       "      <td>-0.072643</td>\n",
       "    </tr>\n",
       "    <tr>\n",
       "      <th>39</th>\n",
       "      <td>number_of_reviews</td>\n",
       "      <td>availability_365</td>\n",
       "      <td>0.176161</td>\n",
       "    </tr>\n",
       "    <tr>\n",
       "      <th>40</th>\n",
       "      <td>reviews_per_month</td>\n",
       "      <td>latitude</td>\n",
       "      <td>-0.014961</td>\n",
       "    </tr>\n",
       "    <tr>\n",
       "      <th>41</th>\n",
       "      <td>reviews_per_month</td>\n",
       "      <td>longitude</td>\n",
       "      <td>0.135354</td>\n",
       "    </tr>\n",
       "    <tr>\n",
       "      <th>42</th>\n",
       "      <td>reviews_per_month</td>\n",
       "      <td>price</td>\n",
       "      <td>-0.052865</td>\n",
       "    </tr>\n",
       "    <tr>\n",
       "      <th>43</th>\n",
       "      <td>reviews_per_month</td>\n",
       "      <td>minimum_nights</td>\n",
       "      <td>-0.123140</td>\n",
       "    </tr>\n",
       "    <tr>\n",
       "      <th>44</th>\n",
       "      <td>reviews_per_month</td>\n",
       "      <td>number_of_reviews</td>\n",
       "      <td>0.584707</td>\n",
       "    </tr>\n",
       "    <tr>\n",
       "      <th>46</th>\n",
       "      <td>reviews_per_month</td>\n",
       "      <td>calculated_host_listings_count</td>\n",
       "      <td>-0.048281</td>\n",
       "    </tr>\n",
       "    <tr>\n",
       "      <th>47</th>\n",
       "      <td>reviews_per_month</td>\n",
       "      <td>availability_365</td>\n",
       "      <td>0.165891</td>\n",
       "    </tr>\n",
       "    <tr>\n",
       "      <th>48</th>\n",
       "      <td>calculated_host_listings_count</td>\n",
       "      <td>latitude</td>\n",
       "      <td>0.018272</td>\n",
       "    </tr>\n",
       "    <tr>\n",
       "      <th>49</th>\n",
       "      <td>calculated_host_listings_count</td>\n",
       "      <td>longitude</td>\n",
       "      <td>-0.114418</td>\n",
       "    </tr>\n",
       "    <tr>\n",
       "      <th>50</th>\n",
       "      <td>calculated_host_listings_count</td>\n",
       "      <td>price</td>\n",
       "      <td>0.053688</td>\n",
       "    </tr>\n",
       "    <tr>\n",
       "      <th>51</th>\n",
       "      <td>calculated_host_listings_count</td>\n",
       "      <td>minimum_nights</td>\n",
       "      <td>0.128552</td>\n",
       "    </tr>\n",
       "    <tr>\n",
       "      <th>52</th>\n",
       "      <td>calculated_host_listings_count</td>\n",
       "      <td>number_of_reviews</td>\n",
       "      <td>-0.072643</td>\n",
       "    </tr>\n",
       "    <tr>\n",
       "      <th>53</th>\n",
       "      <td>calculated_host_listings_count</td>\n",
       "      <td>reviews_per_month</td>\n",
       "      <td>-0.048281</td>\n",
       "    </tr>\n",
       "    <tr>\n",
       "      <th>55</th>\n",
       "      <td>calculated_host_listings_count</td>\n",
       "      <td>availability_365</td>\n",
       "      <td>0.223409</td>\n",
       "    </tr>\n",
       "    <tr>\n",
       "      <th>56</th>\n",
       "      <td>availability_365</td>\n",
       "      <td>latitude</td>\n",
       "      <td>-0.012063</td>\n",
       "    </tr>\n",
       "    <tr>\n",
       "      <th>57</th>\n",
       "      <td>availability_365</td>\n",
       "      <td>longitude</td>\n",
       "      <td>0.085315</td>\n",
       "    </tr>\n",
       "    <tr>\n",
       "      <th>58</th>\n",
       "      <td>availability_365</td>\n",
       "      <td>price</td>\n",
       "      <td>0.083439</td>\n",
       "    </tr>\n",
       "    <tr>\n",
       "      <th>59</th>\n",
       "      <td>availability_365</td>\n",
       "      <td>minimum_nights</td>\n",
       "      <td>0.142466</td>\n",
       "    </tr>\n",
       "    <tr>\n",
       "      <th>60</th>\n",
       "      <td>availability_365</td>\n",
       "      <td>number_of_reviews</td>\n",
       "      <td>0.176161</td>\n",
       "    </tr>\n",
       "    <tr>\n",
       "      <th>61</th>\n",
       "      <td>availability_365</td>\n",
       "      <td>reviews_per_month</td>\n",
       "      <td>0.165891</td>\n",
       "    </tr>\n",
       "    <tr>\n",
       "      <th>62</th>\n",
       "      <td>availability_365</td>\n",
       "      <td>calculated_host_listings_count</td>\n",
       "      <td>0.223409</td>\n",
       "    </tr>\n",
       "  </tbody>\n",
       "</table>\n",
       "</div>"
      ],
      "text/plain": [
       "                                F1                              F2     Value\n",
       "1                         latitude                       longitude  0.085919\n",
       "2                         latitude                           price  0.029195\n",
       "3                         latitude                  minimum_nights  0.024725\n",
       "4                         latitude               number_of_reviews -0.014016\n",
       "5                         latitude               reviews_per_month -0.014961\n",
       "6                         latitude  calculated_host_listings_count  0.018272\n",
       "7                         latitude                availability_365 -0.012063\n",
       "8                        longitude                        latitude  0.085919\n",
       "10                       longitude                           price -0.151930\n",
       "11                       longitude                  minimum_nights -0.063447\n",
       "12                       longitude               number_of_reviews  0.055632\n",
       "13                       longitude               reviews_per_month  0.135354\n",
       "14                       longitude  calculated_host_listings_count -0.114418\n",
       "15                       longitude                availability_365  0.085315\n",
       "16                           price                        latitude  0.029195\n",
       "17                           price                       longitude -0.151930\n",
       "19                           price                  minimum_nights  0.045746\n",
       "20                           price               number_of_reviews -0.048459\n",
       "21                           price               reviews_per_month -0.052865\n",
       "22                           price  calculated_host_listings_count  0.053688\n",
       "23                           price                availability_365  0.083439\n",
       "24                  minimum_nights                        latitude  0.024725\n",
       "25                  minimum_nights                       longitude -0.063447\n",
       "26                  minimum_nights                           price  0.045746\n",
       "28                  minimum_nights               number_of_reviews -0.078890\n",
       "29                  minimum_nights               reviews_per_month -0.123140\n",
       "30                  minimum_nights  calculated_host_listings_count  0.128552\n",
       "31                  minimum_nights                availability_365  0.142466\n",
       "32               number_of_reviews                        latitude -0.014016\n",
       "33               number_of_reviews                       longitude  0.055632\n",
       "34               number_of_reviews                           price -0.048459\n",
       "35               number_of_reviews                  minimum_nights -0.078890\n",
       "37               number_of_reviews               reviews_per_month  0.584707\n",
       "38               number_of_reviews  calculated_host_listings_count -0.072643\n",
       "39               number_of_reviews                availability_365  0.176161\n",
       "40               reviews_per_month                        latitude -0.014961\n",
       "41               reviews_per_month                       longitude  0.135354\n",
       "42               reviews_per_month                           price -0.052865\n",
       "43               reviews_per_month                  minimum_nights -0.123140\n",
       "44               reviews_per_month               number_of_reviews  0.584707\n",
       "46               reviews_per_month  calculated_host_listings_count -0.048281\n",
       "47               reviews_per_month                availability_365  0.165891\n",
       "48  calculated_host_listings_count                        latitude  0.018272\n",
       "49  calculated_host_listings_count                       longitude -0.114418\n",
       "50  calculated_host_listings_count                           price  0.053688\n",
       "51  calculated_host_listings_count                  minimum_nights  0.128552\n",
       "52  calculated_host_listings_count               number_of_reviews -0.072643\n",
       "53  calculated_host_listings_count               reviews_per_month -0.048281\n",
       "55  calculated_host_listings_count                availability_365  0.223409\n",
       "56                availability_365                        latitude -0.012063\n",
       "57                availability_365                       longitude  0.085315\n",
       "58                availability_365                           price  0.083439\n",
       "59                availability_365                  minimum_nights  0.142466\n",
       "60                availability_365               number_of_reviews  0.176161\n",
       "61                availability_365               reviews_per_month  0.165891\n",
       "62                availability_365  calculated_host_listings_count  0.223409"
      ]
     },
     "execution_count": 19,
     "metadata": {},
     "output_type": "execute_result"
    }
   ],
   "source": [
    "corr=df.corr().stack().reset_index()\n",
    "corr=corr[~(corr[0]==1)].rename(columns={'level_0':'F1','level_1':'F2',0:'Value'})\n",
    "corr"
   ]
  },
  {
   "cell_type": "code",
   "execution_count": null,
   "metadata": {},
   "outputs": [],
   "source": [
    "#number of reviews is highly correlated with reviews per month"
   ]
  },
  {
   "cell_type": "code",
   "execution_count": 21,
   "metadata": {},
   "outputs": [],
   "source": [
    "treated_df.drop('number_of_reviews',axis=1,inplace=True)"
   ]
  },
  {
   "cell_type": "code",
   "execution_count": 16,
   "metadata": {},
   "outputs": [
    {
     "data": {
      "text/plain": [
       "(34226, 234)"
      ]
     },
     "execution_count": 16,
     "metadata": {},
     "output_type": "execute_result"
    }
   ],
   "source": [
    "treated_df.shape"
   ]
  },
  {
   "cell_type": "code",
   "execution_count": 17,
   "metadata": {},
   "outputs": [
    {
     "data": {
      "text/html": [
       "<div>\n",
       "<style scoped>\n",
       "    .dataframe tbody tr th:only-of-type {\n",
       "        vertical-align: middle;\n",
       "    }\n",
       "\n",
       "    .dataframe tbody tr th {\n",
       "        vertical-align: top;\n",
       "    }\n",
       "\n",
       "    .dataframe thead th {\n",
       "        text-align: right;\n",
       "    }\n",
       "</style>\n",
       "<table border=\"1\" class=\"dataframe\">\n",
       "  <thead>\n",
       "    <tr style=\"text-align: right;\">\n",
       "      <th></th>\n",
       "      <th>latitude</th>\n",
       "      <th>longitude</th>\n",
       "      <th>price</th>\n",
       "      <th>minimum_nights</th>\n",
       "      <th>number_of_reviews</th>\n",
       "      <th>last_review</th>\n",
       "      <th>reviews_per_month</th>\n",
       "      <th>calculated_host_listings_count</th>\n",
       "      <th>availability_365</th>\n",
       "      <th>neighbourhood_group_Bronx</th>\n",
       "      <th>...</th>\n",
       "      <th>neighbourhood_Whitestone</th>\n",
       "      <th>neighbourhood_Williamsbridge</th>\n",
       "      <th>neighbourhood_Williamsburg</th>\n",
       "      <th>neighbourhood_Windsor Terrace</th>\n",
       "      <th>neighbourhood_Woodhaven</th>\n",
       "      <th>neighbourhood_Woodlawn</th>\n",
       "      <th>neighbourhood_Woodside</th>\n",
       "      <th>room_type_Entire home/apt</th>\n",
       "      <th>room_type_Private room</th>\n",
       "      <th>room_type_Shared room</th>\n",
       "    </tr>\n",
       "    <tr>\n",
       "      <th>id</th>\n",
       "      <th></th>\n",
       "      <th></th>\n",
       "      <th></th>\n",
       "      <th></th>\n",
       "      <th></th>\n",
       "      <th></th>\n",
       "      <th></th>\n",
       "      <th></th>\n",
       "      <th></th>\n",
       "      <th></th>\n",
       "      <th></th>\n",
       "      <th></th>\n",
       "      <th></th>\n",
       "      <th></th>\n",
       "      <th></th>\n",
       "      <th></th>\n",
       "      <th></th>\n",
       "      <th></th>\n",
       "      <th></th>\n",
       "      <th></th>\n",
       "      <th></th>\n",
       "    </tr>\n",
       "  </thead>\n",
       "  <tbody>\n",
       "    <tr>\n",
       "      <th>5728806</th>\n",
       "      <td>-0.126158</td>\n",
       "      <td>-0.925911</td>\n",
       "      <td>4.795791</td>\n",
       "      <td>0.671727</td>\n",
       "      <td>-0.390877</td>\n",
       "      <td>54.448406</td>\n",
       "      <td>-0.841806</td>\n",
       "      <td>0.352916</td>\n",
       "      <td>-1.217137</td>\n",
       "      <td>0</td>\n",
       "      <td>...</td>\n",
       "      <td>0</td>\n",
       "      <td>0</td>\n",
       "      <td>0</td>\n",
       "      <td>0</td>\n",
       "      <td>0</td>\n",
       "      <td>0</td>\n",
       "      <td>0</td>\n",
       "      <td>0</td>\n",
       "      <td>1</td>\n",
       "      <td>0</td>\n",
       "    </tr>\n",
       "    <tr>\n",
       "      <th>2243769</th>\n",
       "      <td>1.302892</td>\n",
       "      <td>-0.181543</td>\n",
       "      <td>7.313887</td>\n",
       "      <td>-0.928176</td>\n",
       "      <td>-1.276706</td>\n",
       "      <td>118.843979</td>\n",
       "      <td>-0.942575</td>\n",
       "      <td>-0.458048</td>\n",
       "      <td>-1.217137</td>\n",
       "      <td>0</td>\n",
       "      <td>...</td>\n",
       "      <td>0</td>\n",
       "      <td>0</td>\n",
       "      <td>0</td>\n",
       "      <td>0</td>\n",
       "      <td>0</td>\n",
       "      <td>0</td>\n",
       "      <td>0</td>\n",
       "      <td>1</td>\n",
       "      <td>0</td>\n",
       "      <td>0</td>\n",
       "    </tr>\n",
       "    <tr>\n",
       "      <th>35515415</th>\n",
       "      <td>0.485716</td>\n",
       "      <td>1.276213</td>\n",
       "      <td>5.303305</td>\n",
       "      <td>-0.460234</td>\n",
       "      <td>-0.248290</td>\n",
       "      <td>8.353004</td>\n",
       "      <td>1.840733</td>\n",
       "      <td>-0.458048</td>\n",
       "      <td>1.178208</td>\n",
       "      <td>0</td>\n",
       "      <td>...</td>\n",
       "      <td>0</td>\n",
       "      <td>0</td>\n",
       "      <td>0</td>\n",
       "      <td>0</td>\n",
       "      <td>0</td>\n",
       "      <td>0</td>\n",
       "      <td>0</td>\n",
       "      <td>1</td>\n",
       "      <td>0</td>\n",
       "      <td>0</td>\n",
       "    </tr>\n",
       "    <tr>\n",
       "      <th>36202006</th>\n",
       "      <td>-2.343446</td>\n",
       "      <td>-2.734621</td>\n",
       "      <td>3.433987</td>\n",
       "      <td>-0.460234</td>\n",
       "      <td>-1.276706</td>\n",
       "      <td>118.843979</td>\n",
       "      <td>-0.942575</td>\n",
       "      <td>0.613989</td>\n",
       "      <td>0.576071</td>\n",
       "      <td>0</td>\n",
       "      <td>...</td>\n",
       "      <td>0</td>\n",
       "      <td>0</td>\n",
       "      <td>0</td>\n",
       "      <td>0</td>\n",
       "      <td>0</td>\n",
       "      <td>0</td>\n",
       "      <td>0</td>\n",
       "      <td>0</td>\n",
       "      <td>0</td>\n",
       "      <td>1</td>\n",
       "    </tr>\n",
       "    <tr>\n",
       "      <th>3780951</th>\n",
       "      <td>1.486399</td>\n",
       "      <td>0.203856</td>\n",
       "      <td>4.753590</td>\n",
       "      <td>-0.928176</td>\n",
       "      <td>0.533691</td>\n",
       "      <td>9.667199</td>\n",
       "      <td>-0.529227</td>\n",
       "      <td>-0.458048</td>\n",
       "      <td>1.178208</td>\n",
       "      <td>0</td>\n",
       "      <td>...</td>\n",
       "      <td>0</td>\n",
       "      <td>0</td>\n",
       "      <td>0</td>\n",
       "      <td>0</td>\n",
       "      <td>0</td>\n",
       "      <td>0</td>\n",
       "      <td>0</td>\n",
       "      <td>0</td>\n",
       "      <td>0</td>\n",
       "      <td>1</td>\n",
       "    </tr>\n",
       "  </tbody>\n",
       "</table>\n",
       "<p>5 rows × 234 columns</p>\n",
       "</div>"
      ],
      "text/plain": [
       "          latitude  longitude     price  minimum_nights  number_of_reviews  \\\n",
       "id                                                                           \n",
       "5728806  -0.126158  -0.925911  4.795791        0.671727          -0.390877   \n",
       "2243769   1.302892  -0.181543  7.313887       -0.928176          -1.276706   \n",
       "35515415  0.485716   1.276213  5.303305       -0.460234          -0.248290   \n",
       "36202006 -2.343446  -2.734621  3.433987       -0.460234          -1.276706   \n",
       "3780951   1.486399   0.203856  4.753590       -0.928176           0.533691   \n",
       "\n",
       "          last_review  reviews_per_month  calculated_host_listings_count  \\\n",
       "id                                                                         \n",
       "5728806     54.448406          -0.841806                        0.352916   \n",
       "2243769    118.843979          -0.942575                       -0.458048   \n",
       "35515415     8.353004           1.840733                       -0.458048   \n",
       "36202006   118.843979          -0.942575                        0.613989   \n",
       "3780951      9.667199          -0.529227                       -0.458048   \n",
       "\n",
       "          availability_365  neighbourhood_group_Bronx  ...  \\\n",
       "id                                                     ...   \n",
       "5728806          -1.217137                          0  ...   \n",
       "2243769          -1.217137                          0  ...   \n",
       "35515415          1.178208                          0  ...   \n",
       "36202006          0.576071                          0  ...   \n",
       "3780951           1.178208                          0  ...   \n",
       "\n",
       "          neighbourhood_Whitestone  neighbourhood_Williamsbridge  \\\n",
       "id                                                                 \n",
       "5728806                          0                             0   \n",
       "2243769                          0                             0   \n",
       "35515415                         0                             0   \n",
       "36202006                         0                             0   \n",
       "3780951                          0                             0   \n",
       "\n",
       "          neighbourhood_Williamsburg  neighbourhood_Windsor Terrace  \\\n",
       "id                                                                    \n",
       "5728806                            0                              0   \n",
       "2243769                            0                              0   \n",
       "35515415                           0                              0   \n",
       "36202006                           0                              0   \n",
       "3780951                            0                              0   \n",
       "\n",
       "          neighbourhood_Woodhaven  neighbourhood_Woodlawn  \\\n",
       "id                                                          \n",
       "5728806                         0                       0   \n",
       "2243769                         0                       0   \n",
       "35515415                        0                       0   \n",
       "36202006                        0                       0   \n",
       "3780951                         0                       0   \n",
       "\n",
       "          neighbourhood_Woodside  room_type_Entire home/apt  \\\n",
       "id                                                            \n",
       "5728806                        0                          0   \n",
       "2243769                        0                          1   \n",
       "35515415                       0                          1   \n",
       "36202006                       0                          0   \n",
       "3780951                        0                          0   \n",
       "\n",
       "          room_type_Private room  room_type_Shared room  \n",
       "id                                                       \n",
       "5728806                        1                      0  \n",
       "2243769                        0                      0  \n",
       "35515415                       0                      0  \n",
       "36202006                       0                      1  \n",
       "3780951                        0                      1  \n",
       "\n",
       "[5 rows x 234 columns]"
      ]
     },
     "execution_count": 17,
     "metadata": {},
     "output_type": "execute_result"
    }
   ],
   "source": [
    "treated_df.head()"
   ]
  },
  {
   "cell_type": "code",
   "execution_count": null,
   "metadata": {},
   "outputs": [],
   "source": []
  },
  {
   "cell_type": "code",
   "execution_count": null,
   "metadata": {},
   "outputs": [],
   "source": []
  },
  {
   "cell_type": "code",
   "execution_count": null,
   "metadata": {},
   "outputs": [],
   "source": []
  },
  {
   "cell_type": "markdown",
   "metadata": {},
   "source": [
    "## TEST "
   ]
  },
  {
   "cell_type": "code",
   "execution_count": 18,
   "metadata": {},
   "outputs": [],
   "source": [
    "test = pd.read_csv(\"Datasets\\Test.csv\").set_index('id')"
   ]
  },
  {
   "cell_type": "code",
   "execution_count": 19,
   "metadata": {},
   "outputs": [],
   "source": [
    "num_test = num.drop('price')"
   ]
  },
  {
   "cell_type": "code",
   "execution_count": 20,
   "metadata": {},
   "outputs": [
    {
     "name": "stdout",
     "output_type": "stream",
     "text": [
      "neighbourhood_group               0\n",
      "neighbourhood                     0\n",
      "latitude                          0\n",
      "longitude                         0\n",
      "room_type                         0\n",
      "minimum_nights                    0\n",
      "number_of_reviews                 0\n",
      "last_review                       0\n",
      "reviews_per_month                 0\n",
      "calculated_host_listings_count    0\n",
      "availability_365                  0\n",
      "dtype: int64\n"
     ]
    }
   ],
   "source": [
    "handle_null(test)"
   ]
  },
  {
   "cell_type": "code",
   "execution_count": 24,
   "metadata": {},
   "outputs": [
    {
     "data": {
      "text/html": [
       "<div>\n",
       "<style scoped>\n",
       "    .dataframe tbody tr th:only-of-type {\n",
       "        vertical-align: middle;\n",
       "    }\n",
       "\n",
       "    .dataframe tbody tr th {\n",
       "        vertical-align: top;\n",
       "    }\n",
       "\n",
       "    .dataframe thead th {\n",
       "        text-align: right;\n",
       "    }\n",
       "</style>\n",
       "<table border=\"1\" class=\"dataframe\">\n",
       "  <thead>\n",
       "    <tr style=\"text-align: right;\">\n",
       "      <th></th>\n",
       "      <th>Feature</th>\n",
       "      <th>Number of Outliers</th>\n",
       "    </tr>\n",
       "  </thead>\n",
       "  <tbody>\n",
       "    <tr>\n",
       "      <th>0</th>\n",
       "      <td>latitude</td>\n",
       "      <td>119</td>\n",
       "    </tr>\n",
       "    <tr>\n",
       "      <th>1</th>\n",
       "      <td>longitude</td>\n",
       "      <td>863</td>\n",
       "    </tr>\n",
       "    <tr>\n",
       "      <th>2</th>\n",
       "      <td>minimum_nights</td>\n",
       "      <td>2026</td>\n",
       "    </tr>\n",
       "    <tr>\n",
       "      <th>3</th>\n",
       "      <td>number_of_reviews</td>\n",
       "      <td>1832</td>\n",
       "    </tr>\n",
       "    <tr>\n",
       "      <th>4</th>\n",
       "      <td>reviews_per_month</td>\n",
       "      <td>1046</td>\n",
       "    </tr>\n",
       "    <tr>\n",
       "      <th>5</th>\n",
       "      <td>calculated_host_listings_count</td>\n",
       "      <td>2151</td>\n",
       "    </tr>\n",
       "    <tr>\n",
       "      <th>6</th>\n",
       "      <td>availability_365</td>\n",
       "      <td>0</td>\n",
       "    </tr>\n",
       "  </tbody>\n",
       "</table>\n",
       "</div>"
      ],
      "text/plain": [
       "                          Feature Number of Outliers\n",
       "0                        latitude                119\n",
       "1                       longitude                863\n",
       "2                  minimum_nights               2026\n",
       "3               number_of_reviews               1832\n",
       "4               reviews_per_month               1046\n",
       "5  calculated_host_listings_count               2151\n",
       "6                availability_365                  0"
      ]
     },
     "execution_count": 24,
     "metadata": {},
     "output_type": "execute_result"
    }
   ],
   "source": [
    "detect_outliers(test[num_test])"
   ]
  },
  {
   "cell_type": "code",
   "execution_count": 109,
   "metadata": {},
   "outputs": [],
   "source": [
    "treated_test = treat_outliers(test)"
   ]
  },
  {
   "cell_type": "code",
   "execution_count": 26,
   "metadata": {},
   "outputs": [
    {
     "name": "stdout",
     "output_type": "stream",
     "text": [
      "latitude                           0.230432\n",
      "longitude                          1.300628\n",
      "minimum_nights                    17.306502\n",
      "number_of_reviews                  3.795289\n",
      "reviews_per_month                  2.498199\n",
      "calculated_host_listings_count     7.850537\n",
      "availability_365                   0.780870\n",
      "dtype: float64 \n",
      " \n",
      " Greater than 0.6 \n",
      " longitude                          1.300628\n",
      "minimum_nights                    17.306502\n",
      "number_of_reviews                  3.795289\n",
      "reviews_per_month                  2.498199\n",
      "calculated_host_listings_count     7.850537\n",
      "availability_365                   0.780870\n",
      "dtype: float64\n"
     ]
    }
   ],
   "source": [
    "detect_skew(test)"
   ]
  },
  {
   "cell_type": "code",
   "execution_count": 27,
   "metadata": {},
   "outputs": [
    {
     "name": "stdout",
     "output_type": "stream",
     "text": [
      "minimum_nights\n",
      "number_of_reviews\n",
      "reviews_per_month\n",
      "calculated_host_listings_count\n",
      "availability_365\n"
     ]
    }
   ],
   "source": [
    "treated_test = treat_skew(test)"
   ]
  },
  {
   "cell_type": "code",
   "execution_count": 28,
   "metadata": {},
   "outputs": [
    {
     "name": "stdout",
     "output_type": "stream",
     "text": [
      "latitude                          0.230432\n",
      "longitude                         1.300628\n",
      "minimum_nights                    1.503127\n",
      "number_of_reviews                 0.375222\n",
      "reviews_per_month                 0.968776\n",
      "calculated_host_listings_count    3.225547\n",
      "availability_365                 -0.192247\n",
      "dtype: float64 \n",
      " \n",
      " Greater than 0.6 \n",
      " longitude                         1.300628\n",
      "minimum_nights                    1.503127\n",
      "reviews_per_month                 0.968776\n",
      "calculated_host_listings_count    3.225547\n",
      "dtype: float64\n"
     ]
    }
   ],
   "source": [
    "detect_skew(treated_test)"
   ]
  },
  {
   "cell_type": "code",
   "execution_count": 29,
   "metadata": {},
   "outputs": [],
   "source": [
    "treated_test['last_review'] = pd.to_datetime(treated_test['last_review'])"
   ]
  },
  {
   "cell_type": "code",
   "execution_count": 30,
   "metadata": {},
   "outputs": [],
   "source": [
    "treated_test['last_review'] = ((pd.to_datetime('now')-treated_test['last_review'])/np.timedelta64(1,'M'))"
   ]
  },
  {
   "cell_type": "code",
   "execution_count": 31,
   "metadata": {},
   "outputs": [],
   "source": [
    "treated_test[num_test] = sc.transform(treated_test[num_test])"
   ]
  },
  {
   "cell_type": "code",
   "execution_count": 32,
   "metadata": {},
   "outputs": [],
   "source": [
    "treated_test = pd.get_dummies(treated_test)"
   ]
  },
  {
   "cell_type": "code",
   "execution_count": 33,
   "metadata": {},
   "outputs": [
    {
     "data": {
      "text/plain": [
       "(14669, 223)"
      ]
     },
     "execution_count": 33,
     "metadata": {},
     "output_type": "execute_result"
    }
   ],
   "source": [
    "treated_test.shape"
   ]
  },
  {
   "cell_type": "code",
   "execution_count": 34,
   "metadata": {},
   "outputs": [
    {
     "data": {
      "text/plain": [
       "(34226, 234)"
      ]
     },
     "execution_count": 34,
     "metadata": {},
     "output_type": "execute_result"
    }
   ],
   "source": [
    "treated_df.shape"
   ]
  },
  {
   "cell_type": "code",
   "execution_count": 35,
   "metadata": {},
   "outputs": [
    {
     "data": {
      "text/plain": [
       "{'neighbourhood_Fort Wadsworth',\n",
       " 'neighbourhood_New Dorp',\n",
       " 'neighbourhood_Willowbrook',\n",
       " 'neighbourhood_Woodrow'}"
      ]
     },
     "execution_count": 35,
     "metadata": {},
     "output_type": "execute_result"
    }
   ],
   "source": [
    "b = set(treated_test.columns)-set(treated_df.columns)\n",
    "b"
   ]
  },
  {
   "cell_type": "code",
   "execution_count": 38,
   "metadata": {},
   "outputs": [
    {
     "data": {
      "text/plain": [
       "{'neighbourhood_Breezy Point',\n",
       " 'neighbourhood_Co-op City',\n",
       " 'neighbourhood_Howland Hook',\n",
       " 'neighbourhood_Mariners Harbor',\n",
       " 'neighbourhood_Midland Beach',\n",
       " 'neighbourhood_Mill Basin',\n",
       " 'neighbourhood_Olinville',\n",
       " \"neighbourhood_Prince's Bay\",\n",
       " 'neighbourhood_Richmondtown',\n",
       " 'neighbourhood_Rossville',\n",
       " 'neighbourhood_Silver Lake',\n",
       " 'neighbourhood_Unionport',\n",
       " 'neighbourhood_West Farms',\n",
       " 'neighbourhood_Westerleigh'}"
      ]
     },
     "execution_count": 38,
     "metadata": {},
     "output_type": "execute_result"
    }
   ],
   "source": [
    "a = set(X.columns)-set(treated_test.columns)\n",
    "a"
   ]
  },
  {
   "cell_type": "code",
   "execution_count": 37,
   "metadata": {},
   "outputs": [],
   "source": [
    "X = treated_df.drop(['price'],axis=1)\n",
    "y = treated_df['price']"
   ]
  },
  {
   "cell_type": "code",
   "execution_count": 39,
   "metadata": {},
   "outputs": [],
   "source": [
    "X.drop(list(a),axis=1,inplace=True)"
   ]
  },
  {
   "cell_type": "code",
   "execution_count": 41,
   "metadata": {},
   "outputs": [],
   "source": [
    "treated_df.drop(list(a),axis=1,inplace=True)"
   ]
  },
  {
   "cell_type": "code",
   "execution_count": 42,
   "metadata": {},
   "outputs": [],
   "source": [
    "treated_test.drop(list(b),axis=1,inplace=True)"
   ]
  },
  {
   "cell_type": "code",
   "execution_count": 43,
   "metadata": {},
   "outputs": [
    {
     "data": {
      "text/plain": [
       "((14669, 219), (34226, 219))"
      ]
     },
     "execution_count": 43,
     "metadata": {},
     "output_type": "execute_result"
    }
   ],
   "source": [
    "treated_test.shape,X.shape"
   ]
  },
  {
   "cell_type": "code",
   "execution_count": null,
   "metadata": {},
   "outputs": [],
   "source": []
  },
  {
   "cell_type": "code",
   "execution_count": null,
   "metadata": {},
   "outputs": [],
   "source": []
  },
  {
   "cell_type": "code",
   "execution_count": null,
   "metadata": {},
   "outputs": [],
   "source": []
  },
  {
   "cell_type": "markdown",
   "metadata": {},
   "source": [
    "#### Basic Vanilla Model"
   ]
  },
  {
   "cell_type": "code",
   "execution_count": 128,
   "metadata": {},
   "outputs": [],
   "source": [
    "X_train,X_test,y_train,y_test = train_test_split(X,y,test_size=0.3,random_state=0)"
   ]
  },
  {
   "cell_type": "code",
   "execution_count": 129,
   "metadata": {},
   "outputs": [],
   "source": [
    "model = LinearRegression()"
   ]
  },
  {
   "cell_type": "code",
   "execution_count": 130,
   "metadata": {},
   "outputs": [
    {
     "data": {
      "text/plain": [
       "LinearRegression(copy_X=True, fit_intercept=True, n_jobs=None, normalize=False)"
      ]
     },
     "execution_count": 130,
     "metadata": {},
     "output_type": "execute_result"
    }
   ],
   "source": [
    "model.fit(X_train,y_train)"
   ]
  },
  {
   "cell_type": "code",
   "execution_count": 131,
   "metadata": {},
   "outputs": [],
   "source": [
    "y_pred = model.predict(X_test)"
   ]
  },
  {
   "cell_type": "code",
   "execution_count": 132,
   "metadata": {},
   "outputs": [
    {
     "data": {
      "text/plain": [
       "0.6190015443450139"
      ]
     },
     "execution_count": 132,
     "metadata": {},
     "output_type": "execute_result"
    }
   ],
   "source": [
    "model.score(X_test,y_test)"
   ]
  },
  {
   "cell_type": "code",
   "execution_count": 133,
   "metadata": {},
   "outputs": [
    {
     "data": {
      "text/plain": [
       "0.355395916303102"
      ]
     },
     "execution_count": 133,
     "metadata": {},
     "output_type": "execute_result"
    }
   ],
   "source": [
    "np.sqrt(mean_squared_error(y_test,y_pred))"
   ]
  },
  {
   "cell_type": "code",
   "execution_count": null,
   "metadata": {},
   "outputs": [],
   "source": []
  },
  {
   "cell_type": "markdown",
   "metadata": {},
   "source": [
    "### Export processed data"
   ]
  },
  {
   "cell_type": "code",
   "execution_count": 44,
   "metadata": {},
   "outputs": [],
   "source": [
    "treated_df.to_csv(\"treated_train.csv\")"
   ]
  },
  {
   "cell_type": "code",
   "execution_count": 45,
   "metadata": {},
   "outputs": [],
   "source": [
    "treated_test.to_csv(\"treated_test.csv\")"
   ]
  },
  {
   "cell_type": "code",
   "execution_count": null,
   "metadata": {},
   "outputs": [],
   "source": []
  }
 ],
 "metadata": {
  "kernelspec": {
   "display_name": "Python 3",
   "language": "python",
   "name": "python3"
  },
  "language_info": {
   "codemirror_mode": {
    "name": "ipython",
    "version": 3
   },
   "file_extension": ".py",
   "mimetype": "text/x-python",
   "name": "python",
   "nbconvert_exporter": "python",
   "pygments_lexer": "ipython3",
   "version": "3.7.1"
  }
 },
 "nbformat": 4,
 "nbformat_minor": 2
}
